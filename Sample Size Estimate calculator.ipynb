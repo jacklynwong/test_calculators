{
 "cells": [
  {
   "cell_type": "code",
   "execution_count": 19,
   "metadata": {},
   "outputs": [
    {
     "name": "stdout",
     "output_type": "stream",
     "text": [
      "Sample Size: 9,435,502\n"
     ]
    }
   ],
   "source": [
    "    \"\"\" Based on https://www.evanmiller.org/ab-testing/sample-size.html\n",
    "\n",
    "    Args:\n",
    "        alpha (float): How often are you willing to accept a Type I error (false positive)?\n",
    "        power (float): How often do you want to correctly detect a true positive (1-beta)?\n",
    "        p (float): Base conversion rate\n",
    "        pct_mde (float): Minimum detectable effect, relative to base conversion rate.\n",
    "\n",
    "    \"\"\"\n",
    "\n",
    "from scipy.stats import norm\n",
    "import numpy as np\n",
    "\n",
    "alpha = 0.05\n",
    "power = 0.8\n",
    "p = 0.0067 * .1\n",
    "pct_mde = 0.05\n",
    "\n",
    "\n",
    "def calc_sample_size(alpha, power, p, pct_mde):\n",
    "        delta = p*pct_mde\n",
    "        t_alpha2 = norm.ppf(1.0-alpha/2)\n",
    "        t_beta = norm.ppf(power)\n",
    "        sd1 = np.sqrt(2 * p * (1.0 - p))\n",
    "        sd2 = np.sqrt(p * (1.0 - p) + (p + delta) * (1.0 - p - delta))\n",
    "        return (t_alpha2 * sd1 + t_beta * sd2) * (t_alpha2 * sd1 + t_beta * sd2) / (delta * delta)\n",
    "\n",
    "\n",
    "print ('Sample Size: {:,.0f}'.format(calc_sample_size(alpha, power, p, pct_mde)))\n"
   ]
  }
 ],
 "metadata": {
  "interpreter": {
   "hash": "b89b5cfaba6639976dc87ff2fec6d58faec662063367e2c229c520fe71072417"
  },
  "kernelspec": {
   "display_name": "Python 3.10.1 64-bit",
   "language": "python",
   "name": "python3"
  },
  "language_info": {
   "codemirror_mode": {
    "name": "ipython",
    "version": 3
   },
   "file_extension": ".py",
   "mimetype": "text/x-python",
   "name": "python",
   "nbconvert_exporter": "python",
   "pygments_lexer": "ipython3",
   "version": "3.10.1"
  },
  "orig_nbformat": 4
 },
 "nbformat": 4,
 "nbformat_minor": 2
}
